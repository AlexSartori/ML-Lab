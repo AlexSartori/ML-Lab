{
 "cells": [
  {
   "cell_type": "markdown",
   "metadata": {},
   "source": [
    "# Algoritmi Avanzati, 26.02.2019"
   ]
  },
  {
   "cell_type": "markdown",
   "metadata": {},
   "source": [
    "### EXERCISE 5\n",
    "Given a 1-dimensional vector v with n rows and a 2-dimensional matrix M with n columns, without using any built-in function, define functions to:\n",
    " - compute the inner product of two vectors v and w\n",
    " - compute the product of v and M\n",
    " \n",
    "TIP: you can use Python lists"
   ]
  },
  {
   "cell_type": "code",
   "execution_count": 1,
   "metadata": {},
   "outputs": [],
   "source": [
    "import numpy as np\n",
    "\n",
    "v, w = np.array([2, 1, 3]), np.array([5, 14, 2])\n",
    "M = np.array([[1, 2, 3], [4, 5, 6], [7, 8, 9]])"
   ]
  },
  {
   "cell_type": "code",
   "execution_count": 2,
   "metadata": {},
   "outputs": [
    {
     "name": "stdout",
     "output_type": "stream",
     "text": [
      "Inner product: 30\n"
     ]
    }
   ],
   "source": [
    "def dot(v, w):\n",
    "    return sum(v*w)\n",
    "\n",
    "print(\"Inner product:\", dot(v, w))"
   ]
  },
  {
   "cell_type": "code",
   "execution_count": 3,
   "metadata": {},
   "outputs": [
    {
     "name": "stdout",
     "output_type": "stream",
     "text": [
      "v*M: [27, 33, 39]\n"
     ]
    }
   ],
   "source": [
    "def prod(v, M):\n",
    "    return [dot(v, M[:, i]) for i in range(M.shape[1])]\n",
    "\n",
    "print(\"v*M:\", prod(v, M))"
   ]
  },
  {
   "cell_type": "markdown",
   "metadata": {},
   "source": [
    "### EXERCISE 6\n",
    "Given the iris dataset CSV file and a new unseen vector representing a flower, define a function that classifies the new flower according to the class of its nearest neighbor.\n",
    "\n",
    "TIPS: \n",
    "* use the Euclidean distance as distance metric\n",
    "* you can download and find more information about the iris dataset at https://archive.ics.uci.edu/ml/datasets/iris."
   ]
  },
  {
   "cell_type": "code",
   "execution_count": 4,
   "metadata": {},
   "outputs": [
    {
     "name": "stdout",
     "output_type": "stream",
     "text": [
      "New flower: 1\n"
     ]
    }
   ],
   "source": [
    "from sklearn.datasets import load_iris\n",
    "from sklearn.neighbors import KNeighborsClassifier\n",
    "\n",
    "x, y = load_iris(return_X_y=True)\n",
    "nf = np.array([5.2, 2.3, 3.2, 1.1]) # New flower\n",
    "\n",
    "min_dist, label = float(\"inf\"), \"No label\"\n",
    "\n",
    "for f, l in zip(x, y):\n",
    "    d = np.sqrt(sum((f-nf)**2))\n",
    "    \n",
    "    if d < min_dist:\n",
    "        min_dist = d\n",
    "        label = l\n",
    "\n",
    "print(\"New flower:\", label)"
   ]
  }
 ],
 "metadata": {
  "kernelspec": {
   "display_name": "Python 3",
   "language": "python",
   "name": "python3"
  },
  "language_info": {
   "codemirror_mode": {
    "name": "ipython",
    "version": 3
   },
   "file_extension": ".py",
   "mimetype": "text/x-python",
   "name": "python",
   "nbconvert_exporter": "python",
   "pygments_lexer": "ipython3",
   "version": "3.7.1"
  }
 },
 "nbformat": 4,
 "nbformat_minor": 2
}
