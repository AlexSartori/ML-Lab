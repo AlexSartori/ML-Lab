{
 "cells": [
  {
   "cell_type": "markdown",
   "metadata": {},
   "source": [
    "# Algoritmi Avanzati, 19.02.2019"
   ]
  },
  {
   "cell_type": "markdown",
   "metadata": {},
   "source": [
    "### EXERCISE 1:\n",
    "Given a list of integers, without using any package or built-in function, compute and print:\n",
    " - mean of the list\n",
    " - number of negative and positive numbers in the list\n",
    " - two lists that contain positives and negatives in the original list"
   ]
  },
  {
   "cell_type": "code",
   "execution_count": 1,
   "metadata": {},
   "outputs": [],
   "source": [
    "v = [-2,2,-3,3,10]"
   ]
  },
  {
   "cell_type": "code",
   "execution_count": 2,
   "metadata": {},
   "outputs": [
    {
     "name": "stdout",
     "output_type": "stream",
     "text": [
      "Mean: 2.0\n"
     ]
    }
   ],
   "source": [
    "mean = sum(v)/len(v)\n",
    "print(\"Mean:\", mean)"
   ]
  },
  {
   "cell_type": "code",
   "execution_count": 3,
   "metadata": {
    "scrolled": true
   },
   "outputs": [
    {
     "name": "stdout",
     "output_type": "stream",
     "text": [
      "Positive entries: 3\n",
      "Negative entries: 2\n"
     ]
    }
   ],
   "source": [
    "n_pos = sum(x >= 0 for x in v) # True == 1\n",
    "print(\"Positive entries:\", n_pos)\n",
    "print(\"Negative entries:\", len(v) - n_pos)"
   ]
  },
  {
   "cell_type": "code",
   "execution_count": 4,
   "metadata": {},
   "outputs": [
    {
     "name": "stdout",
     "output_type": "stream",
     "text": [
      "Positive items: [2, 3, 10]\n",
      "Negative items: [-2, -3]\n"
     ]
    }
   ],
   "source": [
    "pos_items = [x for x in v if x >= 0]\n",
    "neg_items = [x for x in v if x < 0]\n",
    "\n",
    "print(\"Positive items:\", pos_items)\n",
    "print(\"Negative items:\", neg_items)"
   ]
  },
  {
   "cell_type": "markdown",
   "metadata": {},
   "source": [
    "### EXERCISE 2:\n",
    "Given a list of integers, without using any package or built-in function, compute and print:\n",
    " - a dictionary where:\n",
    "     - keys are unique numbers contained in the list\n",
    "     - values count the occurrencies of unique numbers in the list\n",
    "\n",
    "TIP: you can use dictionary functions"
   ]
  },
  {
   "cell_type": "code",
   "execution_count": 5,
   "metadata": {},
   "outputs": [],
   "source": [
    "v = [1,2,3,4,2,3,1,2,3,4,2,1,3]"
   ]
  },
  {
   "cell_type": "code",
   "execution_count": 6,
   "metadata": {},
   "outputs": [
    {
     "name": "stdout",
     "output_type": "stream",
     "text": [
      "{1: 3, 2: 4, 3: 4, 4: 2}\n"
     ]
    }
   ],
   "source": [
    "counts = {}\n",
    "\n",
    "for x in v:\n",
    "    if x in counts:\n",
    "        counts[x] += 1\n",
    "    else:\n",
    "        counts[x] = 1\n",
    "\n",
    "print(counts)"
   ]
  },
  {
   "cell_type": "markdown",
   "metadata": {},
   "source": [
    "### EXERCISE 3: \n",
    "Given an unordered list of numbers, without using any package or built-in function, define functions to (and print results):\n",
    " - swap the values of two elements in the list\n",
    " - order ascendently the list\n",
    " - find mean and median of the list"
   ]
  },
  {
   "cell_type": "code",
   "execution_count": 7,
   "metadata": {},
   "outputs": [],
   "source": [
    "v = [30, 10, 40, 20, 50]"
   ]
  },
  {
   "cell_type": "code",
   "execution_count": 8,
   "metadata": {},
   "outputs": [
    {
     "name": "stdout",
     "output_type": "stream",
     "text": [
      "List with 1st and 2nd items swapped: [30, 40, 10, 20, 50]\n"
     ]
    }
   ],
   "source": [
    "v[1], v[2] = v[2], v[1]\n",
    "print(\"List with 1st and 2nd items swapped:\", v)"
   ]
  },
  {
   "cell_type": "code",
   "execution_count": 9,
   "metadata": {},
   "outputs": [
    {
     "name": "stdout",
     "output_type": "stream",
     "text": [
      "Sorted list: [10, 20, 30, 40, 50]\n"
     ]
    }
   ],
   "source": [
    "v.sort()\n",
    "print(\"Sorted list:\", v)"
   ]
  },
  {
   "cell_type": "code",
   "execution_count": 10,
   "metadata": {},
   "outputs": [
    {
     "name": "stdout",
     "output_type": "stream",
     "text": [
      "Mean: 30.0\n",
      "Median: 30\n"
     ]
    }
   ],
   "source": [
    "mean = sum(v)/len(v)\n",
    "\n",
    "if len(v) % 2 == 1:\n",
    "    median = v[len(v)//2]\n",
    "else:\n",
    "    median = (v[len(v)//2] + v[(len(v)//2)+1]) / 2\n",
    "\n",
    "print(\"Mean:\", mean)\n",
    "print(\"Median:\", median)"
   ]
  },
  {
   "cell_type": "markdown",
   "metadata": {},
   "source": [
    "### EXERCISE 4:\n",
    "Given a list of 2-dimensional tuples, without using any package or built-in function, define functions to (and print results):\n",
    " - find the Euclidean distance between two tuples t1 and t2\n",
    " - find the Euclidean distance between all tuples of the list\n",
    " - to compute the coordinates of the centroid of the list of tuples\n",
    "\n",
    "TIP: you can use the math module (use `import math`)"
   ]
  },
  {
   "cell_type": "code",
   "execution_count": 11,
   "metadata": {},
   "outputs": [],
   "source": [
    "v = [(1.0,1.0), (2.0,2.0), (3.0,3.0), (4.0,4.0)]"
   ]
  },
  {
   "cell_type": "code",
   "execution_count": 12,
   "metadata": {},
   "outputs": [
    {
     "name": "stdout",
     "output_type": "stream",
     "text": [
      "Euclidean distance: 2.83\n"
     ]
    }
   ],
   "source": [
    "import math\n",
    "\n",
    "t1, t2 = v[0], v[2]\n",
    "dist = math.sqrt((t1[0] - t2[0])**2 + (t1[1] - t2[1])**2)\n",
    "\n",
    "print(\"Euclidean distance: {:.2f}\".format(dist))"
   ]
  },
  {
   "cell_type": "code",
   "execution_count": 13,
   "metadata": {},
   "outputs": [
    {
     "name": "stdout",
     "output_type": "stream",
     "text": [
      "Distance between v[0] and v[1]: 1.41\n",
      "Distance between v[0] and v[2]: 2.83\n",
      "Distance between v[0] and v[3]: 4.24\n",
      "Distance between v[1] and v[2]: 1.41\n",
      "Distance between v[1] and v[3]: 2.83\n",
      "Distance between v[2] and v[3]: 1.41\n"
     ]
    }
   ],
   "source": [
    "for i in range(len(v)):\n",
    "    for j in range(i, len(v)):\n",
    "        if i == j:\n",
    "            continue\n",
    "        \n",
    "        t1, t2 = v[i], v[j]\n",
    "        dist = math.sqrt((t1[0] - t2[0])**2 + (t1[1] - t2[1])**2)\n",
    "        print(\"Distance between v[{}] and v[{}]: {:.2f}\".format(i, j, dist))"
   ]
  },
  {
   "cell_type": "code",
   "execution_count": 14,
   "metadata": {},
   "outputs": [
    {
     "name": "stdout",
     "output_type": "stream",
     "text": [
      "Centroid: (2.50, 2.50)\n"
     ]
    }
   ],
   "source": [
    "mean_x = sum(t[0] for t in v)/len(v)\n",
    "mean_y = sum(t[1] for t in v)/len(v)\n",
    "\n",
    "print(\"Centroid: ({:.2f}, {:.2f})\".format(mean_x, mean_y))"
   ]
  }
 ],
 "metadata": {
  "kernelspec": {
   "display_name": "Python 3",
   "language": "python",
   "name": "python3"
  },
  "language_info": {
   "codemirror_mode": {
    "name": "ipython",
    "version": 3
   },
   "file_extension": ".py",
   "mimetype": "text/x-python",
   "name": "python",
   "nbconvert_exporter": "python",
   "pygments_lexer": "ipython3",
   "version": "3.7.1"
  }
 },
 "nbformat": 4,
 "nbformat_minor": 2
}
