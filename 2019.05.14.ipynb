{
 "cells": [
  {
   "cell_type": "markdown",
   "metadata": {},
   "source": [
    "# Algoritmi Avanzati, 14.05.2019\n",
    "---"
   ]
  },
  {
   "cell_type": "markdown",
   "metadata": {},
   "source": [
    "### EXERCISE 14\n",
    "\n",
    "Given the iris dataset, apply PCA with $k=2$ and plot projected data.\n",
    "\n",
    "TIP:\n",
    "* at https://plot.ly/ipython-notebooks/principal-component-analysis/, you can find many tips to build the solution"
   ]
  },
  {
   "cell_type": "code",
   "execution_count": 58,
   "metadata": {},
   "outputs": [
    {
     "data": {
      "text/plain": [
       "array([[5.1, 3.5, 1.4, 0.2],\n",
       "       [4.9, 3. , 1.4, 0.2],\n",
       "       [4.7, 3.2, 1.3, 0.2],\n",
       "       [4.6, 3.1, 1.5, 0.2],\n",
       "       [5. , 3.6, 1.4, 0.2]])"
      ]
     },
     "execution_count": 58,
     "metadata": {},
     "output_type": "execute_result"
    }
   ],
   "source": [
    "%matplotlib inline\n",
    "import pandas as pd\n",
    "import numpy as np\n",
    "import matplotlib.pyplot as plt\n",
    "\n",
    "np.random.seed(42)\n",
    "\n",
    "dataset = pd.read_csv(\"Datasets/iris.data\", names=['x1', 'x2', 'x3', 'x4', 'y'])\n",
    "X = np.array(dataset.drop(['y'], axis=1))\n",
    "Y = np.array(dataset['y'])\n",
    "X[:5,:]"
   ]
  },
  {
   "cell_type": "code",
   "execution_count": 62,
   "metadata": {},
   "outputs": [],
   "source": [
    "# Standardize the data\n",
    "for col_i in range(X.shape[1]):\n",
    "    col = X[:, col_i]\n",
    "    X[:, col_i] = (col - col.mean()) / col.std()\n",
    "    \n",
    "# S: Covariance Matrix\n",
    "S = X.T.dot(X) / X.shape[0]\n",
    "\n",
    "# Eigenvals and Eigenvectors\n",
    "eig_vals, eig_vecs = np.linalg.eig(S)\n",
    "\n",
    "# Selecting 2 principal components\n",
    "comp = sorted(zip(eig_vals, eig_vecs.T), reverse=True)[:2]\n",
    "\n",
    "# W: Projection Matrix\n",
    "W = np.array([comp[0][1], comp[1][1]]).T\n",
    "\n",
    "# Project the data\n",
    "X2D = X.dot(W)"
   ]
  },
  {
   "cell_type": "markdown",
   "metadata": {},
   "source": [
    "**Plot the data:**"
   ]
  },
  {
   "cell_type": "code",
   "execution_count": 63,
   "metadata": {},
   "outputs": [
    {
     "data": {
      "image/png": "[encoded data removed]",
      "text/plain": [
       "<Figure size 432x288 with 1 Axes>"
      ]
     },
     "metadata": {
      "needs_background": "light"
     },
     "output_type": "display_data"
    }
   ],
   "source": [
    "for label in dataset['y'].unique():\n",
    "    tmp = X2D[Y == label]\n",
    "    plt.scatter(tmp[:, 0], tmp[:, 1])"
   ]
  }
 ],
 "metadata": {
  "kernelspec": {
   "display_name": "Python 3",
   "language": "python",
   "name": "python3"
  },
  "language_info": {
   "codemirror_mode": {
    "name": "ipython",
    "version": 3
   },
   "file_extension": ".py",
   "mimetype": "text/x-python",
   "name": "python",
   "nbconvert_exporter": "python",
   "pygments_lexer": "ipython3",
   "version": "3.7.1"
  }
 },
 "nbformat": 4,
 "nbformat_minor": 2
}
